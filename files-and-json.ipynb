{
 "cells": [
  {
   "cell_type": "markdown",
   "metadata": {
    "slideshow": {
     "slide_type": "slide"
    }
   },
   "source": [
    "# If you don't have Python, you can use ReplIt:\n",
    "\n",
    "# https://repl.it/languages/Python3\n",
    "\n",
    "# or the binder associated with this repo, at\n",
    "# https://github.com/jgarst/json-class"
   ]
  },
  {
   "cell_type": "markdown",
   "metadata": {
    "slideshow": {
     "slide_type": "slide"
    }
   },
   "source": [
    "# What do we do when we program?"
   ]
  },
  {
   "cell_type": "markdown",
   "metadata": {},
   "source": [
    "### Usually we are taking text information from another program, processing it and emitting more text\n",
    "#### * Take cells from a spreadsheet and produce a pdf\n",
    "#### * Take tempurature readings from a device, send an email if the readings are bad\n",
    "#### * Take text descriptions of people and deliver a webpage"
   ]
  },
  {
   "cell_type": "markdown",
   "metadata": {
    "slideshow": {
     "slide_type": "slide"
    }
   },
   "source": [
    "# Today we are going to write the first half of a program.\n",
    "#### * Read data from an API\n",
    "#### * Manipulate it\n",
    "#### * ???\n",
    "#### * Profit!"
   ]
  },
  {
   "cell_type": "markdown",
   "metadata": {
    "slideshow": {
     "slide_type": "slide"
    }
   },
   "source": [
    "# Here is an api that gives us the name of every person currently in space.\n",
    "\n",
    "### http://api.open-notify.org/astros.json"
   ]
  },
  {
   "cell_type": "markdown",
   "metadata": {},
   "source": [
    "### This is JSON data, a common text based specification for storing data\n",
    "### We are going to read it in and convert it to native python types."
   ]
  },
  {
   "cell_type": "markdown",
   "metadata": {
    "slideshow": {
     "slide_type": "slide"
    }
   },
   "source": [
    "## JSON is a lightweight specification (15 pages) for text based data\n",
    "\n",
    "## It describes:\n",
    "| <span style=\"font-size: xx-large;\">Element</span> | <span style=\"font-size: xx-large;\">Syntax</span> |\n",
    "| ------- | ------ |\n",
    "| <span style=\"color:blue;font-size: xx-large;\">strings</span> | <span style=\"font-size: xx-large;\">\"...\"</span> |\n",
    "| <span style=\"color:blue;font-size: xx-large;\">booleans</span> | <span style=\"font-size: xx-large;\">true/false</span> |\n",
    "| <span style=\"color:blue;font-size: xx-large;\">integers</span> | <span style=\"font-size: xx-large;\">123</span> |\n",
    "| <span style=\"color:blue;font-size: xx-large;\">floats</span> | <span style=\"font-size: xx-large;\">1.2 or 3.7E-5</span> |\n",
    "| <span style=\"color:blue;font-size: xx-large;\">nulls</span> | <span style=\"font-size: xx-large;\">null</span> |\n",
    "| <span style=\"color:red;font-size: xx-large;\">Objects</span> | <span style=\"font-size: xx-large;\">{ key1: value1, key2: value2}</span> |\n",
    "| <span style=\"color:red;font-size: xx-large;\">Array</span> | <span style=\"font-size: xx-large;\">[ value1, value2, value3]</span> |"
   ]
  },
  {
   "cell_type": "markdown",
   "metadata": {
    "slideshow": {
     "slide_type": "slide"
    }
   },
   "source": [
    "# Python also has these types"
   ]
  },
  {
   "cell_type": "code",
   "execution_count": null,
   "metadata": {},
   "outputs": [],
   "source": [
    "my_string = 'my favorite string'\n",
    "my_boolean = True\n",
    "my_int = 3\n",
    "my_float = 4.5\n",
    "my_null = None"
   ]
  },
  {
   "cell_type": "markdown",
   "metadata": {
    "slideshow": {
     "slide_type": "slide"
    }
   },
   "source": [
    "# Python allows us to act on this data"
   ]
  },
  {
   "cell_type": "code",
   "execution_count": null,
   "metadata": {},
   "outputs": [],
   "source": [
    "print(5 + 5)\n",
    "print(True or False)\n",
    "print(3 / 2)\n",
    "print('hello ' + ' noisebridge')"
   ]
  },
  {
   "cell_type": "markdown",
   "metadata": {
    "slideshow": {
     "slide_type": "slide"
    }
   },
   "source": [
    "# We need to be careful to distinguish between type and value"
   ]
  },
  {
   "cell_type": "markdown",
   "metadata": {},
   "source": [
    "###  555-5555 is a phone number, not a math concept, and should be stored as a string"
   ]
  },
  {
   "cell_type": "code",
   "execution_count": null,
   "metadata": {},
   "outputs": [],
   "source": [
    "# What is the difference between\n",
    "print(5 + 5)\n",
    "print('5' + '5')"
   ]
  },
  {
   "cell_type": "markdown",
   "metadata": {
    "slideshow": {
     "slide_type": "slide"
    }
   },
   "source": [
    "# Trick Question!\n",
    "# What happens if we add numbers and text?"
   ]
  },
  {
   "cell_type": "code",
   "execution_count": null,
   "metadata": {},
   "outputs": [],
   "source": [
    "print(\"5\" + 5)"
   ]
  },
  {
   "cell_type": "markdown",
   "metadata": {},
   "source": [
    "1. \"55\"\n",
    "2. 55\n",
    "3. \"10\"\n",
    "4. 10"
   ]
  },
  {
   "cell_type": "markdown",
   "metadata": {
    "slideshow": {
     "slide_type": "slide"
    }
   },
   "source": [
    "# Python has a zen"
   ]
  },
  {
   "cell_type": "code",
   "execution_count": null,
   "metadata": {},
   "outputs": [],
   "source": [
    "import this"
   ]
  },
  {
   "cell_type": "markdown",
   "metadata": {
    "slideshow": {
     "slide_type": "slide"
    }
   },
   "source": [
    "## Gene name errors are widespread in the scientific literature\n",
    "\n",
    "Mark Ziemann, Yotam Eren and Assam El-Osta\n",
    "\n",
    "https://doi.org/10.1186/s13059-016-1044-7\n",
    "    \n",
    ">The spreadsheet software Microsoft Excel, when used with default settings, is known to convert gene names to dates and floating point numbers.  A programmatic scan of leading genomics journals reveals that approximately one-fifth of papers with supplementary Excel gene lists contain erroneous gene name conversions."
   ]
  },
  {
   "cell_type": "markdown",
   "metadata": {
    "slideshow": {
     "slide_type": "slide"
    }
   },
   "source": [
    "## Adding times (from Think Python)\n",
    "\n",
    "If I leave my house at 6:52 am and run 1 mile at an easy pace (8:15 per mile), then 3 miles at tempo (7:12 per mile) and 1 mile at an easy pace again, what time do I get home for breakfast?\n",
    "\n",
    "* Use the Modulo operator.\n",
    "* Print your answer in a human readable format."
   ]
  },
  {
   "cell_type": "markdown",
   "metadata": {
    "slideshow": {
     "slide_type": "-"
    }
   },
   "source": [
    "## Which of these expressions are syntax errors, and why?"
   ]
  },
  {
   "cell_type": "code",
   "execution_count": null,
   "metadata": {},
   "outputs": [],
   "source": [
    "a = 5"
   ]
  },
  {
   "cell_type": "code",
   "execution_count": null,
   "metadata": {},
   "outputs": [],
   "source": [
    "5 = a"
   ]
  },
  {
   "cell_type": "code",
   "execution_count": null,
   "metadata": {},
   "outputs": [],
   "source": [
    "a, b = 5, 4\n",
    "c = a + b"
   ]
  },
  {
   "cell_type": "code",
   "execution_count": null,
   "metadata": {},
   "outputs": [],
   "source": [
    "a, b = 5, 4\n",
    "a + b = c"
   ]
  },
  {
   "cell_type": "code",
   "execution_count": null,
   "metadata": {},
   "outputs": [],
   "source": [
    "a = 5, 9\n",
    "b = a + c"
   ]
  },
  {
   "cell_type": "markdown",
   "metadata": {
    "slideshow": {
     "slide_type": "slide"
    }
   },
   "source": [
    "# What about all those squiggly things?"
   ]
  },
  {
   "cell_type": "code",
   "execution_count": null,
   "metadata": {
    "slideshow": {
     "slide_type": "-"
    }
   },
   "outputs": [],
   "source": [
    "# people currently in space, from http://api.open-notify.org/astros.json\n",
    "\n",
    "{'number': 3,\n",
    " 'people': [{'craft': 'ISS', 'name': 'Oleg Kononenko'},\n",
    "            {'craft': 'ISS', 'name': 'David Saint-Jacques'},\n",
    "            {'craft': 'ISS', 'name': 'Anne McClain'}]}"
   ]
  },
  {
   "cell_type": "markdown",
   "metadata": {
    "slideshow": {
     "slide_type": "slide"
    }
   },
   "source": [
    "# JSON has two types of collections\n",
    "# Python has four primary collections\n",
    "\n",
    "| <span style=\"font-size: xx-large;\">JSON</span> | <span style=\"text-align: center; font-size: xx-large;\">Syntax</span> | <span style=\"font-size: xx-large;\">Python</span>  |\n",
    "| ------- |:------ | - |\n",
    "| <span style=\"font-size: xx-large;\">nulls</span> | <span style=\"font-size: xx-large;\">null</span> | <span style=\"font-size: xx-large;\">None</span> |\n",
    "| <span style=\"font-size: xx-large;\">Object</span> | <span style=\"font-size: xx-large;\">{ key1: value1, key2: value2}</span> | <span style=\"font-size: xx-large;\">Dictionary</span> |\n",
    "| <span style=\"font-size: xx-large;\">Array</span> | <span style=\"font-size: xx-large;\">[ value1, value2, value3]</span> | <span style=\"font-size: xx-large;\">List</span> |\n",
    "| <span/> | <span style=\"font-size: xx-large;\">( value1, value2, value3)</span> | <span style=\"font-size: xx-large;\">Tuple</span> |\n",
    "| <span/> | <span style=\"font-size: xx-large;\">{ value1, value2, value3}</span> | <span style=\"font-size: xx-large;\">Set</span> |\n"
   ]
  },
  {
   "cell_type": "markdown",
   "metadata": {
    "slideshow": {
     "slide_type": "slide"
    }
   },
   "source": [
    "## List: [ , , ]\n",
    "\n",
    "* A list is a sequence\n",
    "* A list is mutable\n",
    "* Think 'examples of X'"
   ]
  },
  {
   "cell_type": "code",
   "execution_count": null,
   "metadata": {},
   "outputs": [],
   "source": [
    "# Python collections support\n",
    "# adding\n",
    "# removing\n",
    "# access\n",
    "# membership\n",
    "# iterating"
   ]
  },
  {
   "cell_type": "markdown",
   "metadata": {
    "slideshow": {
     "slide_type": "slide"
    }
   },
   "source": [
    "## Write code that computes the accumulation of a list"
   ]
  },
  {
   "cell_type": "code",
   "execution_count": 6,
   "metadata": {},
   "outputs": [
    {
     "data": {
      "text/plain": [
       "[1, 3, 6]"
      ]
     },
     "execution_count": 6,
     "metadata": {},
     "output_type": "execute_result"
    }
   ],
   "source": [
    "accumulate([1, 2, 3])"
   ]
  },
  {
   "cell_type": "markdown",
   "metadata": {
    "slideshow": {
     "slide_type": "slide"
    }
   },
   "source": [
    "## Dictionary    { : , : }\n",
    "\n",
    "* Unique Key Value Pairs\n",
    "* Keys must be immutable\n",
    "* Think 'I want to look this up later'"
   ]
  },
  {
   "cell_type": "code",
   "execution_count": null,
   "metadata": {},
   "outputs": [],
   "source": [
    "# add\n",
    "# remove\n",
    "# access\n",
    "# membership\n",
    "# iterating"
   ]
  },
  {
   "cell_type": "markdown",
   "metadata": {},
   "source": [
    "## Write code that calculates the frequency of numbers in a list"
   ]
  },
  {
   "cell_type": "code",
   "execution_count": 8,
   "metadata": {},
   "outputs": [
    {
     "data": {
      "text/plain": [
       "{1: 2, 5: 2, 3: 1, 2: 1}"
      ]
     },
     "execution_count": 8,
     "metadata": {},
     "output_type": "execute_result"
    }
   ],
   "source": [
    "count([1, 5, 5, 3, 2, 1])"
   ]
  },
  {
   "cell_type": "markdown",
   "metadata": {
    "slideshow": {
     "slide_type": "slide"
    }
   },
   "source": [
    "## Tuple    ( , , )\n",
    "\n",
    "* Immutable sequence\n",
    "* Think 'group of associated data'\n",
    "* Also look up typing.NamedTuple"
   ]
  },
  {
   "cell_type": "code",
   "execution_count": null,
   "metadata": {},
   "outputs": [],
   "source": [
    "# add/remove\n",
    "# access\n",
    "# membership\n",
    "# iterating\n",
    "# sort order"
   ]
  },
  {
   "cell_type": "markdown",
   "metadata": {
    "slideshow": {
     "slide_type": "slide"
    }
   },
   "source": [
    "# Set    { , , }\n",
    "\n",
    "* Unique Collection\n",
    "* Can be used for unique counting or to test for membership"
   ]
  },
  {
   "cell_type": "code",
   "execution_count": null,
   "metadata": {},
   "outputs": [],
   "source": [
    "# for each\n",
    "# membership"
   ]
  },
  {
   "cell_type": "markdown",
   "metadata": {
    "slideshow": {
     "slide_type": "slide"
    }
   },
   "source": [
    "# This isn't much, but we can combine these bits to created complex representations of the world."
   ]
  },
  {
   "cell_type": "code",
   "execution_count": null,
   "metadata": {},
   "outputs": [],
   "source": [
    "spreadsheet = [\n",
    "    {'column1': 'row1-value1', 'column2': 'row1-value2'},\n",
    "    {'column1': 'row2-value1', 'column2': 'row2-value2'}\n",
    "]"
   ]
  },
  {
   "cell_type": "markdown",
   "metadata": {
    "slideshow": {
     "slide_type": "slide"
    }
   },
   "source": [
    "### We can access data in nested structures through repeated square bracket access"
   ]
  },
  {
   "cell_type": "code",
   "execution_count": null,
   "metadata": {},
   "outputs": [],
   "source": [
    "spreadsheet = [\n",
    "    {'column1': 'row1-value1', 'column2': 'row1-value2'},\n",
    "    {'column1': 'row2-value1', 'column2': 'row2-value2'}\n",
    "]\n",
    "\n",
    "row = spreadsheet[1]\n",
    "value = row['column2']"
   ]
  },
  {
   "cell_type": "code",
   "execution_count": null,
   "metadata": {},
   "outputs": [],
   "source": [
    "value = spreadsheet[1]['column2']"
   ]
  },
  {
   "cell_type": "markdown",
   "metadata": {
    "slideshow": {
     "slide_type": "slide"
    }
   },
   "source": [
    "# Let's talk about manipulating JSON data in Python!"
   ]
  },
  {
   "cell_type": "code",
   "execution_count": null,
   "metadata": {},
   "outputs": [],
   "source": [
    "import requests\n",
    "\n",
    "space_people = requests.get('http://api.open-notify.org/astros.json').json()\n",
    "\n",
    "pprint(space_people)"
   ]
  },
  {
   "cell_type": "code",
   "execution_count": null,
   "metadata": {},
   "outputs": [],
   "source": [
    "space_people = {\n",
    "    \"people\": [\n",
    "        {\"name\": \"Oleg Kononenko\", \"craft\": \"ISS\"}, \n",
    "        {\"name\": \"David Saint-Jacques\", \"craft\": \"ISS\"}, \n",
    "        {\"name\": \"Anne McClain\", \"craft\": \"ISS\"},\n",
    "    ], \n",
    "    \"number\": 3, \n",
    "}\n",
    "pprint(space_people)"
   ]
  },
  {
   "cell_type": "markdown",
   "metadata": {},
   "source": [
    "### 1. Access the nested collections and print the name of everyone in space\n",
    "### 2. Programatically add yourself to space!\n",
    "#### Don't forget to update the number of people in space!"
   ]
  },
  {
   "cell_type": "markdown",
   "metadata": {
    "slideshow": {
     "slide_type": "slide"
    }
   },
   "source": [
    "# These are internal to Python, what about the rest of the world?"
   ]
  },
  {
   "cell_type": "markdown",
   "metadata": {
    "slideshow": {
     "slide_type": "slide"
    }
   },
   "source": [
    "# Writing and reading JSON\n",
    "## Strings\n",
    "* Input with json.loads\n",
    "* Output with json.dumps\n",
    "\n",
    "## Files\n",
    "* Input with json.load\n",
    "* Output with json.dump"
   ]
  },
  {
   "cell_type": "code",
   "execution_count": null,
   "metadata": {},
   "outputs": [],
   "source": [
    "import json\n",
    "json.loads('{\"people\": [{\"name\": \"Oleg Kononenko\", \"craft\": \"ISS\"}, {\"name\": \"David Saint-Jacques\", \"craft\": \"ISS\"}, {\"name\": \"Anne McClain\", \"craft\": \"ISS\"}], \"number\": 3, \"message\": \"success\"}')"
   ]
  },
  {
   "cell_type": "markdown",
   "metadata": {
    "slideshow": {
     "slide_type": "slide"
    }
   },
   "source": [
    "## What Doesn't JSON have?\n",
    "* Comments\n",
    "* Anything fancy.  Dates, links, colors, etc."
   ]
  },
  {
   "cell_type": "markdown",
   "metadata": {
    "slideshow": {
     "slide_type": "slide"
    }
   },
   "source": [
    "## Use Toml/Yaml Instead"
   ]
  },
  {
   "cell_type": "markdown",
   "metadata": {
    "slideshow": {
     "slide_type": "-"
    }
   },
   "source": [
    "## Toml vs Yaml is a good argument for minimal data formats\n",
    "* YAML is 86 pages\n",
    "* Toml is comparable to JSON in size\n",
    "* Loading YAML is a security risk by default\n",
    "* Lots of variation between parsers.  Lots of incomplete implementations."
   ]
  },
  {
   "cell_type": "markdown",
   "metadata": {
    "slideshow": {
     "slide_type": "slide"
    }
   },
   "source": [
    "## Things to watch out for: \n",
    "\n",
    "\n",
    "### Writing down something in JSON that can't be represented in the language."
   ]
  },
  {
   "cell_type": "code",
   "execution_count": null,
   "metadata": {},
   "outputs": [],
   "source": [
    "l = json.loads('{\"number\": 1.6000000000000000000001}')\n",
    "print(l)"
   ]
  },
  {
   "cell_type": "markdown",
   "metadata": {
    "slideshow": {
     "slide_type": "slide"
    }
   },
   "source": [
    "## Things to watch out for:\n",
    "\n",
    "### Encoding/Decoding can get expensive"
   ]
  },
  {
   "cell_type": "markdown",
   "metadata": {
    "slideshow": {
     "slide_type": "slide"
    }
   },
   "source": [
    "## Let's write some text to disk!"
   ]
  },
  {
   "cell_type": "code",
   "execution_count": null,
   "metadata": {
    "slideshow": {
     "slide_type": "slide"
    }
   },
   "outputs": [],
   "source": [
    "# open and write"
   ]
  },
  {
   "cell_type": "code",
   "execution_count": null,
   "metadata": {
    "slideshow": {
     "slide_type": "slide"
    }
   },
   "outputs": [],
   "source": [
    "# file descriptors are finite"
   ]
  },
  {
   "cell_type": "code",
   "execution_count": null,
   "metadata": {
    "slideshow": {
     "slide_type": "slide"
    }
   },
   "outputs": [],
   "source": [
    "# errors are really hard to handle\n",
    "# using each file only once is really hard"
   ]
  },
  {
   "cell_type": "code",
   "execution_count": null,
   "metadata": {},
   "outputs": [],
   "source": [
    "# Context managers!"
   ]
  },
  {
   "cell_type": "markdown",
   "metadata": {
    "slideshow": {
     "slide_type": "slide"
    }
   },
   "source": [
    "## There are a lot of fiddly bits to files, how do you look up the options and operations?"
   ]
  },
  {
   "cell_type": "code",
   "execution_count": null,
   "metadata": {},
   "outputs": [],
   "source": [
    "help(open)"
   ]
  },
  {
   "cell_type": "markdown",
   "metadata": {
    "slideshow": {
     "slide_type": "slide"
    }
   },
   "source": [
    "## Python Context Managers help us avoid these sorts of mistakes"
   ]
  },
  {
   "cell_type": "code",
   "execution_count": null,
   "metadata": {},
   "outputs": [],
   "source": []
  },
  {
   "cell_type": "markdown",
   "metadata": {
    "slideshow": {
     "slide_type": "slide"
    }
   },
   "source": [
    "## How do you read a file line by line?"
   ]
  },
  {
   "cell_type": "code",
   "execution_count": null,
   "metadata": {},
   "outputs": [],
   "source": [
    "coconuts = 'coconuts.txt'\n",
    "with open(coconuts, 'w') as f:\n",
    "    f.write(\"I've got a lovely bunch of coconuts\\n\")\n",
    "    f.write(\"There they are, all standing in a row\\n\")\n",
    "    f.write(\"Big ones, small ones, some as big as your head\\n\")\n",
    "    f.write(\"Give them a twist a flick of the wrist\\n\")\n",
    "    f.write(\"That's what the showman said\")\n",
    "    \n",
    "with open(coconuts, 'r') as f:\n",
    "    for line in f:\n",
    "        print(line)"
   ]
  },
  {
   "cell_type": "markdown",
   "metadata": {
    "slideshow": {
     "slide_type": "slide"
    }
   },
   "source": [
    "# Takeaways!\n",
    "* look up file handling options with help, dir, and ?\n",
    "* Avoid dangling files and other resources by using context managers (`with` statement)\n",
    "* Use Python types and collections to unambiguously represent your data\n",
    "* Look up David Beazly's talk \"Builtin Superheros\" for more information on collections\n",
    "* To make your software more robust, use text data\n",
    "* Start with JSON, evolve as needed"
   ]
  }
 ],
 "metadata": {
  "celltoolbar": "Slideshow",
  "kernelspec": {
   "display_name": "Python 3",
   "language": "python",
   "name": "python3"
  },
  "language_info": {
   "codemirror_mode": {
    "name": "ipython",
    "version": 3
   },
   "file_extension": ".py",
   "mimetype": "text/x-python",
   "name": "python",
   "nbconvert_exporter": "python",
   "pygments_lexer": "ipython3",
   "version": "3.8.0"
  }
 },
 "nbformat": 4,
 "nbformat_minor": 1
}
